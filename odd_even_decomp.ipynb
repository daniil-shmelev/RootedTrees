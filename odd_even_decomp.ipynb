{
 "cells": [
  {
   "cell_type": "code",
   "execution_count": 1,
   "id": "84b99e8a-cc98-4e64-8e37-5e7dd12c36b4",
   "metadata": {},
   "outputs": [],
   "source": [
    "from trees import *\n",
    "useFractions(True)"
   ]
  },
  {
   "cell_type": "code",
   "execution_count": 2,
   "id": "7ec99cd9-372e-4807-a479-a62497cbe3de",
   "metadata": {},
   "outputs": [],
   "source": [
    "trees = [Tree(None),\n",
    "         Tree([]),\n",
    "         Tree([[]]),\n",
    "         Tree([[],[]]),\n",
    "         Tree([[[]]]),\n",
    "         Tree([[],[],[]]),\n",
    "         Tree([[],[[]]]),\n",
    "         Tree([[[],[]]]),\n",
    "         Tree([[[[]]]])]"
   ]
  },
  {
   "cell_type": "code",
   "execution_count": 3,
   "id": "2bf7f63d-796c-4aa1-afb9-569494fbaf2a",
   "metadata": {},
   "outputs": [
    {
     "name": "stdout",
     "output_type": "stream",
     "text": [
      "1*∅ \n",
      "\n",
      "0.5*[] \n",
      "\n",
      "0.5*[[]] + -0.125*[] [] \n",
      "\n",
      "0.5*[[], []] + -0.25*[] [[]] \n",
      "\n",
      "0.5*[[[]]] + -0.25*[[]] [] + 0.0625*[] [] [] \n",
      "\n",
      "0.5*[[], [], []] + -0.375*[] [[], []] + 0.015625*[] [] [] [] \n",
      "\n",
      "0.5*[[], [[]]] + -0.125*[[]] [[]] + 0.0625*[[]] [] [] + 0.0078125*[] [] [] [] + -0.125*[] [[], []] + -0.125*[] [[[]]] \n",
      "\n",
      "0.5*[[[], []]] + -0.125*[[], []] [] + 0.125*[] [[]] [] + -0.25*[] [[[]]] + -0.015625*[] [] [] [] \n",
      "\n",
      "0.5*[[[[]]]] + -0.25*[[[]]] [] + 0.1875*[[]] [] [] + -0.0390625*[] [] [] [] + -0.125*[[]] [[]] \n",
      "\n"
     ]
    }
   ],
   "source": [
    "for t in trees:\n",
    "    print(t.id_sqrt(), \"\\n\")"
   ]
  },
  {
   "cell_type": "code",
   "execution_count": 4,
   "id": "983dd76e-2be2-458e-be9d-54fbb1f1f26d",
   "metadata": {},
   "outputs": [
    {
     "name": "stdout",
     "output_type": "stream",
     "text": [
      "1*∅ \n",
      "\n",
      "1.0*[] \n",
      "\n",
      "0.5*[] [] \n",
      "\n",
      "1.0*[[], []] \n",
      "\n",
      "1.0*[[[]]] + -1.0*[[]] [] + 0.5*[] [] [] \n",
      "\n",
      "1.5*[] [[], []] + -0.25*[] [] [] [] \n",
      "\n",
      "-0.5*[] [] [[]] + 0.5*[] [[], []] + 0.125*[] [] [] [] + 0.5*[] [[[]]] \n",
      "\n",
      "0.5*[[], []] [] + -1.0*[] [[]] [] + 0.25*[] [] [] [] + 1.0*[] [[[]]] \n",
      "\n",
      "1.0*[[[]]] [] + -1.0*[[]] [] [] + 0.375*[] [] [] [] \n",
      "\n"
     ]
    }
   ],
   "source": [
    "for t in trees:\n",
    "    print(t.minus(), \"\\n\")"
   ]
  },
  {
   "cell_type": "code",
   "execution_count": 5,
   "id": "d14a82b1-ab3e-42ae-b30c-edc863702955",
   "metadata": {},
   "outputs": [
    {
     "name": "stdout",
     "output_type": "stream",
     "text": [
      "1*∅ \n",
      "\n",
      "0 \n",
      "\n",
      "1*[[]] + -0.5*[] [] \n",
      "\n",
      "0 \n",
      "\n",
      "0 \n",
      "\n",
      "1*[[], [], []] + -1.5*[] [[], []] + 0.25*[] [] [] [] \n",
      "\n",
      "1*[[], [[]]] + -0.5*[] [[], []] + 0.125*[] [] [] [] + -0.5*[] [[[]]] \n",
      "\n",
      "1*[[[], []]] + -0.5*[[], []] [] + 1.0*[] [[]] [] + -0.25*[] [] [] [] + -1.0*[] [[[]]] \n",
      "\n",
      "1*[[[[]]]] + -1.0*[[[]]] [] + 0.5*[[]] [] [] + -0.125*[] [] [] [] \n",
      "\n"
     ]
    }
   ],
   "source": [
    "for t in trees:\n",
    "    print(t.plus(), \"\\n\")"
   ]
  }
 ],
 "metadata": {
  "kernelspec": {
   "display_name": "Python 3 (ipykernel)",
   "language": "python",
   "name": "python3"
  },
  "language_info": {
   "codemirror_mode": {
    "name": "ipython",
    "version": 3
   },
   "file_extension": ".py",
   "mimetype": "text/x-python",
   "name": "python",
   "nbconvert_exporter": "python",
   "pygments_lexer": "ipython3",
   "version": "3.12.3"
  }
 },
 "nbformat": 4,
 "nbformat_minor": 5
}
